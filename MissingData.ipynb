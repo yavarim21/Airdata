{
 "cells": [
  {
   "cell_type": "code",
   "execution_count": 9,
   "id": "222b98d2",
   "metadata": {},
   "outputs": [],
   "source": [
    "import pandas as pd\n",
    "import numpy as np\n",
    "import matplotlib.pyplot as plt\n",
    "import seaborn as sns"
   ]
  },
  {
   "cell_type": "code",
   "execution_count": 10,
   "id": "d85babd9",
   "metadata": {},
   "outputs": [
    {
     "data": {
      "text/html": [
       "<div>\n",
       "<style scoped>\n",
       "    .dataframe tbody tr th:only-of-type {\n",
       "        vertical-align: middle;\n",
       "    }\n",
       "\n",
       "    .dataframe tbody tr th {\n",
       "        vertical-align: top;\n",
       "    }\n",
       "\n",
       "    .dataframe thead th {\n",
       "        text-align: right;\n",
       "    }\n",
       "</style>\n",
       "<table border=\"1\" class=\"dataframe\">\n",
       "  <thead>\n",
       "    <tr style=\"text-align: right;\">\n",
       "      <th></th>\n",
       "      <th>DateTime</th>\n",
       "      <th>Temperature</th>\n",
       "      <th>Humidity</th>\n",
       "      <th>Wind_Speed</th>\n",
       "      <th>Wind_Direction</th>\n",
       "      <th>NO2_Location_A</th>\n",
       "      <th>NO2_Location_B</th>\n",
       "      <th>NO2_Location_C</th>\n",
       "    </tr>\n",
       "  </thead>\n",
       "  <tbody>\n",
       "    <tr>\n",
       "      <th>0</th>\n",
       "      <td>1/1/2020 0:00</td>\n",
       "      <td>2.180529</td>\n",
       "      <td>87</td>\n",
       "      <td>1.484318</td>\n",
       "      <td>75.963760</td>\n",
       "      <td>39.23</td>\n",
       "      <td>52.88</td>\n",
       "      <td>62.37</td>\n",
       "    </tr>\n",
       "    <tr>\n",
       "      <th>1</th>\n",
       "      <td>1/1/2020 1:00</td>\n",
       "      <td>1.490529</td>\n",
       "      <td>89</td>\n",
       "      <td>2.741678</td>\n",
       "      <td>113.198590</td>\n",
       "      <td>38.30</td>\n",
       "      <td>44.95</td>\n",
       "      <td>52.53</td>\n",
       "    </tr>\n",
       "    <tr>\n",
       "      <th>2</th>\n",
       "      <td>1/1/2020 2:00</td>\n",
       "      <td>1.690529</td>\n",
       "      <td>85</td>\n",
       "      <td>3.563818</td>\n",
       "      <td>135.000000</td>\n",
       "      <td>NaN</td>\n",
       "      <td>48.40</td>\n",
       "      <td>54.80</td>\n",
       "    </tr>\n",
       "    <tr>\n",
       "      <th>3</th>\n",
       "      <td>1/1/2020 3:00</td>\n",
       "      <td>1.430529</td>\n",
       "      <td>84</td>\n",
       "      <td>2.811690</td>\n",
       "      <td>129.805570</td>\n",
       "      <td>37.28</td>\n",
       "      <td>47.18</td>\n",
       "      <td>50.80</td>\n",
       "    </tr>\n",
       "    <tr>\n",
       "      <th>4</th>\n",
       "      <td>1/1/2020 4:00</td>\n",
       "      <td>0.840529</td>\n",
       "      <td>86</td>\n",
       "      <td>1.800000</td>\n",
       "      <td>126.869896</td>\n",
       "      <td>29.97</td>\n",
       "      <td>41.48</td>\n",
       "      <td>54.43</td>\n",
       "    </tr>\n",
       "    <tr>\n",
       "      <th>...</th>\n",
       "      <td>...</td>\n",
       "      <td>...</td>\n",
       "      <td>...</td>\n",
       "      <td>...</td>\n",
       "      <td>...</td>\n",
       "      <td>...</td>\n",
       "      <td>...</td>\n",
       "      <td>...</td>\n",
       "    </tr>\n",
       "    <tr>\n",
       "      <th>8779</th>\n",
       "      <td>12/31/2020 19:00</td>\n",
       "      <td>4.920528</td>\n",
       "      <td>72</td>\n",
       "      <td>4.553680</td>\n",
       "      <td>251.565060</td>\n",
       "      <td>53.44</td>\n",
       "      <td>32.65</td>\n",
       "      <td>66.82</td>\n",
       "    </tr>\n",
       "    <tr>\n",
       "      <th>8780</th>\n",
       "      <td>12/31/2020 20:00</td>\n",
       "      <td>4.990529</td>\n",
       "      <td>74</td>\n",
       "      <td>3.259939</td>\n",
       "      <td>186.340200</td>\n",
       "      <td>49.80</td>\n",
       "      <td>34.03</td>\n",
       "      <td>67.31</td>\n",
       "    </tr>\n",
       "    <tr>\n",
       "      <th>8781</th>\n",
       "      <td>12/31/2020 21:00</td>\n",
       "      <td>4.360529</td>\n",
       "      <td>84</td>\n",
       "      <td>10.587917</td>\n",
       "      <td>252.181120</td>\n",
       "      <td>43.32</td>\n",
       "      <td>25.55</td>\n",
       "      <td>59.33</td>\n",
       "    </tr>\n",
       "    <tr>\n",
       "      <th>8782</th>\n",
       "      <td>12/31/2020 22:00</td>\n",
       "      <td>3.820528</td>\n",
       "      <td>88</td>\n",
       "      <td>8.435069</td>\n",
       "      <td>219.805570</td>\n",
       "      <td>39.88</td>\n",
       "      <td>19.90</td>\n",
       "      <td>43.70</td>\n",
       "    </tr>\n",
       "    <tr>\n",
       "      <th>8783</th>\n",
       "      <td>12/31/2020 23:00</td>\n",
       "      <td>3.170529</td>\n",
       "      <td>89</td>\n",
       "      <td>6.792466</td>\n",
       "      <td>212.005390</td>\n",
       "      <td>39.04</td>\n",
       "      <td>30.33</td>\n",
       "      <td>46.87</td>\n",
       "    </tr>\n",
       "  </tbody>\n",
       "</table>\n",
       "<p>8784 rows × 8 columns</p>\n",
       "</div>"
      ],
      "text/plain": [
       "              DateTime  Temperature  Humidity  Wind_Speed  Wind_Direction  \\\n",
       "0        1/1/2020 0:00     2.180529        87    1.484318       75.963760   \n",
       "1        1/1/2020 1:00     1.490529        89    2.741678      113.198590   \n",
       "2        1/1/2020 2:00     1.690529        85    3.563818      135.000000   \n",
       "3        1/1/2020 3:00     1.430529        84    2.811690      129.805570   \n",
       "4        1/1/2020 4:00     0.840529        86    1.800000      126.869896   \n",
       "...                ...          ...       ...         ...             ...   \n",
       "8779  12/31/2020 19:00     4.920528        72    4.553680      251.565060   \n",
       "8780  12/31/2020 20:00     4.990529        74    3.259939      186.340200   \n",
       "8781  12/31/2020 21:00     4.360529        84   10.587917      252.181120   \n",
       "8782  12/31/2020 22:00     3.820528        88    8.435069      219.805570   \n",
       "8783  12/31/2020 23:00     3.170529        89    6.792466      212.005390   \n",
       "\n",
       "      NO2_Location_A  NO2_Location_B  NO2_Location_C  \n",
       "0              39.23           52.88           62.37  \n",
       "1              38.30           44.95           52.53  \n",
       "2                NaN           48.40           54.80  \n",
       "3              37.28           47.18           50.80  \n",
       "4              29.97           41.48           54.43  \n",
       "...              ...             ...             ...  \n",
       "8779           53.44           32.65           66.82  \n",
       "8780           49.80           34.03           67.31  \n",
       "8781           43.32           25.55           59.33  \n",
       "8782           39.88           19.90           43.70  \n",
       "8783           39.04           30.33           46.87  \n",
       "\n",
       "[8784 rows x 8 columns]"
      ]
     },
     "execution_count": 10,
     "metadata": {},
     "output_type": "execute_result"
    }
   ],
   "source": [
    "air_df = pd.read_csv('Airdata.csv')\n",
    "air_df"
   ]
  },
  {
   "cell_type": "code",
   "execution_count": 11,
   "id": "eecd644f",
   "metadata": {},
   "outputs": [
    {
     "name": "stdout",
     "output_type": "stream",
     "text": [
      "<class 'pandas.core.frame.DataFrame'>\n",
      "RangeIndex: 8784 entries, 0 to 8783\n",
      "Data columns (total 8 columns):\n",
      " #   Column          Non-Null Count  Dtype  \n",
      "---  ------          --------------  -----  \n",
      " 0   DateTime        8784 non-null   object \n",
      " 1   Temperature     8784 non-null   float64\n",
      " 2   Humidity        8784 non-null   int64  \n",
      " 3   Wind_Speed      8784 non-null   float64\n",
      " 4   Wind_Direction  8784 non-null   float64\n",
      " 5   NO2_Location_A  8664 non-null   float64\n",
      " 6   NO2_Location_B  8204 non-null   float64\n",
      " 7   NO2_Location_C  8652 non-null   float64\n",
      "dtypes: float64(6), int64(1), object(1)\n",
      "memory usage: 549.1+ KB\n"
     ]
    }
   ],
   "source": [
    "air_df.info()"
   ]
  },
  {
   "cell_type": "code",
   "execution_count": 12,
   "id": "e54d44ef",
   "metadata": {},
   "outputs": [
    {
     "name": "stdout",
     "output_type": "stream",
     "text": [
      "Number of Maissing Values:\n",
      "DateTime:0\n",
      "Temperature:0\n",
      "Humidity:0\n",
      "Wind_Speed:0\n",
      "Wind_Direction:0\n",
      "NO2_Location_A:120\n",
      "NO2_Location_B:580\n",
      "NO2_Location_C:132\n"
     ]
    }
   ],
   "source": [
    "#count the number of NaN entries in each attribute of air_df:\n",
    "\n",
    "print('Number of Maissing Values:')\n",
    "for col in air_df.columns:\n",
    "    n_MV= sum(air_df[col].isna())\n",
    "    print('{}:{}'.format(col,n_MV))"
   ]
  },
  {
   "cell_type": "code",
   "execution_count": 13,
   "id": "2bf0c22c",
   "metadata": {},
   "outputs": [],
   "source": [
    "#Diagnosis of missing values\n",
    "# These diagnosis methods must be run for all of the attributes in  the dataset. \n",
    "#There are four numerical attributes in the data: Temperature, Humidity, Wind_Direction, and Wind_Speed.\n",
    "#There is also one DateTime attribute in the data that can be unpacked into four categorical attributes: month, day, hour, and weekday.\n",
    "\n",
    "\n"
   ]
  },
  {
   "cell_type": "code",
   "execution_count": 14,
   "id": "f9b7f115",
   "metadata": {},
   "outputs": [],
   "source": [
    "#Diagnosing missing values in NO2_Location_A\n"
   ]
  },
  {
   "cell_type": "code",
   "execution_count": 15,
   "id": "b4450768",
   "metadata": {},
   "outputs": [
    {
     "data": {
      "text/plain": [
       "0       False\n",
       "1       False\n",
       "2        True\n",
       "3       False\n",
       "4       False\n",
       "        ...  \n",
       "8779    False\n",
       "8780    False\n",
       "8781    False\n",
       "8782    False\n",
       "8783    False\n",
       "Name: NO2_Location_A, Length: 8784, dtype: bool"
      ]
     },
     "execution_count": 15,
     "metadata": {},
     "output_type": "execute_result"
    }
   ],
   "source": [
    "#Diagnosing missing values based on temperature\n",
    "\n",
    "#The visual diagnosis is done by comparing the temperature values for the two populations: \n",
    "\n",
    "\n",
    "#First, data objects with missing values for NO2_Location_A, and\n",
    "#Second, data objects with no missing values for NO2_Location_A.\n",
    "\n",
    "BM_MV = air_df. NO2_Location_A.isna()\n",
    "BM_MV"
   ]
  },
  {
   "cell_type": "code",
   "execution_count": 16,
   "id": "c67823ad",
   "metadata": {},
   "outputs": [
    {
     "data": {
      "text/plain": [
       "False    \n",
       "True     \n",
       "dtype: object"
      ]
     },
     "execution_count": 16,
     "metadata": {},
     "output_type": "execute_result"
    }
   ],
   "source": [
    "MV_labels = ['With Missing Values','Without Missing Values']\n",
    "\n",
    "box_sr = pd.Series('', index = BM_MV. unique()) \n",
    "box_sr\n"
   ]
  },
  {
   "cell_type": "code",
   "execution_count": 17,
   "id": "d46269de",
   "metadata": {},
   "outputs": [
    {
     "data": {
      "image/png": "[encoded data removed]",
      "text/plain": [
       "<Figure size 640x480 with 1 Axes>"
      ]
     },
     "metadata": {},
     "output_type": "display_data"
    }
   ],
   "source": [
    "#Boxplot\n",
    "\n",
    "for poss in BM_MV.unique():\n",
    "    BM = BM_MV == poss\n",
    "    box_sr[poss] = air_df[BM].Temperature\n",
    "    \n",
    "plt.boxplot(box_sr,vert=False)\n",
    "plt.yticks([1,2],MV_labels)\n",
    "plt.show()\n",
    "\n",
    "#Looking at the boxplot, we can see that the value of Temperature does not meaningfully change between the two populations.\n",
    "#That shows that a change in Temperature could not have caused or influenced the occurrence of missing values under NO2_Location_A."
   ]
  },
  {
   "cell_type": "code",
   "execution_count": 20,
   "id": "8b48eb1a",
   "metadata": {},
   "outputs": [
    {
     "data": {
      "image/png": "[encoded data removed]",
      "text/plain": [
       "<Figure size 1000x400 with 2 Axes>"
      ]
     },
     "metadata": {},
     "output_type": "display_data"
    },
    {
     "data": {
      "text/plain": [
       "0       False\n",
       "1       False\n",
       "2        True\n",
       "3       False\n",
       "4       False\n",
       "        ...  \n",
       "8779    False\n",
       "8780    False\n",
       "8781    False\n",
       "8782    False\n",
       "8783    False\n",
       "Name: NO2_Location_A, Length: 8784, dtype: bool"
      ]
     },
     "execution_count": 20,
     "metadata": {},
     "output_type": "execute_result"
    }
   ],
   "source": [
    "BM_MV = air_df.NO2_Location_A.isna()\n",
    "temp_range = (air_df.Temperature.min(),air_df.Temperature.max())\n",
    "MV_labels = ['With Missing Values','Without Missing Values']\n",
    "\n",
    "plt.figure(figsize=(10,4))\n",
    "\n",
    "for i,poss in enumerate(BM_MV.unique()):\n",
    "    plt.subplot(1,2,i+1)\n",
    "    BM = BM_MV == poss\n",
    "    air_df[BM].Temperature.hist()\n",
    "    plt.xlim = temp_range\n",
    "    plt.title(MV_labels[i])\n",
    "\n",
    "plt.show()\n",
    "\n",
    "BM"
   ]
  },
  {
   "cell_type": "code",
   "execution_count": 21,
   "id": "47060709",
   "metadata": {},
   "outputs": [
    {
     "data": {
      "text/plain": [
       "TtestResult(statistic=0.05646499065315542, pvalue=0.9549726689684548, df=8782.0)"
      ]
     },
     "execution_count": 21,
     "metadata": {},
     "output_type": "execute_result"
    }
   ],
   "source": [
    "#a two-sample t-test. \n",
    "#The two-sample t-test evaluates whether the value of a numerical attribute is significantly \n",
    "#different among the two groups. The two groups here are the data objects having missing \n",
    "#values under NO2_Location_A and the data objects without missing values under NO2_Location_A.\n",
    "\n",
    "\n",
    "from scipy.stats import ttest_ind\n",
    "BM_MV = air_df.NO2_Location_A.isna()\n",
    "ttest_ind(air_df[BM_MV].Temperature, air_df[~BM_MV].Temperature)"
   ]
  },
  {
   "cell_type": "code",
   "execution_count": 23,
   "id": "2d2c9a2c",
   "metadata": {},
   "outputs": [],
   "source": [
    "####The p-value of the t-test is very large—0.95 out of 1, which means we do not have any reason \n",
    "####to suspect the value of Temperature can be meaningfully different between the two groups. \n",
    "####This conclusion confirms the one that we arrived at using boxplots and histograms. "
   ]
  },
  {
   "cell_type": "code",
   "execution_count": 28,
   "id": "0239f954",
   "metadata": {},
   "outputs": [
    {
     "name": "stdout",
     "output_type": "stream",
     "text": [
      "Diagnosis Analysis of Missing Values for Temperature:\n",
      "- - - - - - - - - - - - divider - - - - - - - - - - - \n",
      "Diagnosis Analysis of Missing Values for Humidity:\n",
      "- - - - - - - - - - - - divider - - - - - - - - - - - \n",
      "Diagnosis Analysis of Missing Values for Wind_Speed:\n",
      "- - - - - - - - - - - - divider - - - - - - - - - - - \n",
      "Diagnosis Analysis of Missing Values for Wind_Direction:\n",
      "- - - - - - - - - - - - divider - - - - - - - - - - - \n"
     ]
    }
   ],
   "source": [
    "#### Diagnosing the missing values based on all the numerical attributes \n",
    "numerical_attributes = ['Temperature', 'Humidity', 'Wind_Speed', 'Wind_Direction']\n",
    "\n",
    "BM_MV = air_df.NO2_Location_A.isna()\n",
    "for att in numerical_attributes:\n",
    "    print('Diagnosis Analysis of Missing Values for {}:'.format(att))\n",
    "    Diagnose_MV_Numerical(air_df,att,BM_MV)\n",
    "    print('- - - - - - - - - - - - divider - - - - - - - - - - - ')"
   ]
  },
  {
   "cell_type": "code",
   "execution_count": 27,
   "id": "e1d249e4",
   "metadata": {},
   "outputs": [
    {
     "ename": "NameError",
     "evalue": "name 'df' is not defined",
     "output_type": "error",
     "traceback": [
      "\u001b[1;31m---------------------------------------------------------------------------\u001b[0m",
      "\u001b[1;31mNameError\u001b[0m                                 Traceback (most recent call last)",
      "Cell \u001b[1;32mIn[27], line 16\u001b[0m\n\u001b[0;32m     14\u001b[0m \u001b[38;5;28;01mfor\u001b[39;00m poss \u001b[38;5;129;01min\u001b[39;00m BM_MV\u001b[38;5;241m.\u001b[39munique():\n\u001b[0;32m     15\u001b[0m     BM \u001b[38;5;241m=\u001b[39m BM_MV \u001b[38;5;241m==\u001b[39m poss\n\u001b[1;32m---> 16\u001b[0m     box_sr[poss] \u001b[38;5;241m=\u001b[39m df[BM][str_att_name]\u001b[38;5;241m.\u001b[39mdropna()\n\u001b[0;32m     17\u001b[0m     labels\u001b[38;5;241m.\u001b[39mappend(MV_labels[poss])\n\u001b[0;32m     19\u001b[0m     plt\u001b[38;5;241m.\u001b[39mboxplot(box_sr,vert\u001b[38;5;241m=\u001b[39m\u001b[38;5;28;01mFalse\u001b[39;00m)\n",
      "\u001b[1;31mNameError\u001b[0m: name 'df' is not defined"
     ]
    }
   ],
   "source": [
    "from scipy.stats import ttest_ind \n",
    "\n",
    "\n",
    "    \n",
    "def Diagnose_MV_Numerical(df,str_att_name,BM_MV):\n",
    "    MV_labels = {True:'With Missing Values',False:'Without Misssing Values'}\n",
    "    \n",
    "    \n",
    "    labels =[]\n",
    " \n",
    "\n",
    "    box_sr = pd.Series('',index = BM_MV.unique())\n",
    "\n",
    "for poss in BM_MV.unique():\n",
    "    BM = BM_MV == poss\n",
    "    box_sr[poss] = df[BM][str_att_name].dropna()\n",
    "    labels.append(MV_labels[poss])\n",
    "    \n",
    "    plt.boxplot(box_sr,vert=False)\n",
    "    plt.yticks([1,2],labels)\n",
    "    plt.xlabel(str_att_name)\n",
    "    plt.show()\n",
    "    \n",
    "    plt.figure(figsize=(10,4))\n",
    "    \n",
    "    att_range = (df[str_att_name].min(),df[str_att_name].max())\n",
    "\n",
    "    for i,poss in enumerate(BM_MV.unique()):\n",
    "        plt.subplot(1,2,i+1)\n",
    "        BM = BM_MV == poss\n",
    "        df[BM][str_att_name].hist()\n",
    "        plt.xlim = att_range\n",
    "        plt.xlabel(str_att_name)\n",
    "        plt.title(MV_labels[poss])\n",
    "\n",
    "    plt.show()\n",
    "    \n",
    "    group_1_data = df[BM_MV][str_att_name].dropna()\n",
    "    group_2_data = df[~BM_MV][str_att_name].dropna()\n",
    "    \n",
    "    p_value = ttest_ind(group_1_data,group_2_data).pvalue\n",
    "    \n",
    "    print('p-value of t-test: {}'.format(p_value))"
   ]
  },
  {
   "cell_type": "code",
   "execution_count": 29,
   "id": "6febd3cd",
   "metadata": {},
   "outputs": [
    {
     "data": {
      "text/html": [
       "<div>\n",
       "<style scoped>\n",
       "    .dataframe tbody tr th:only-of-type {\n",
       "        vertical-align: middle;\n",
       "    }\n",
       "\n",
       "    .dataframe tbody tr th {\n",
       "        vertical-align: top;\n",
       "    }\n",
       "\n",
       "    .dataframe thead th {\n",
       "        text-align: right;\n",
       "    }\n",
       "</style>\n",
       "<table border=\"1\" class=\"dataframe\">\n",
       "  <thead>\n",
       "    <tr style=\"text-align: right;\">\n",
       "      <th></th>\n",
       "      <th>DateTime</th>\n",
       "      <th>Temperature</th>\n",
       "      <th>Humidity</th>\n",
       "      <th>Wind_Speed</th>\n",
       "      <th>Wind_Direction</th>\n",
       "      <th>NO2_Location_A</th>\n",
       "      <th>NO2_Location_B</th>\n",
       "      <th>NO2_Location_C</th>\n",
       "      <th>month</th>\n",
       "      <th>day</th>\n",
       "      <th>hour</th>\n",
       "      <th>weekday</th>\n",
       "    </tr>\n",
       "  </thead>\n",
       "  <tbody>\n",
       "    <tr>\n",
       "      <th>0</th>\n",
       "      <td>2020-01-01 00:00:00</td>\n",
       "      <td>2.180529</td>\n",
       "      <td>87</td>\n",
       "      <td>1.484318</td>\n",
       "      <td>75.963760</td>\n",
       "      <td>39.23</td>\n",
       "      <td>52.88</td>\n",
       "      <td>62.37</td>\n",
       "      <td>1</td>\n",
       "      <td>1</td>\n",
       "      <td>0</td>\n",
       "      <td>Wednesday</td>\n",
       "    </tr>\n",
       "    <tr>\n",
       "      <th>1</th>\n",
       "      <td>2020-01-01 01:00:00</td>\n",
       "      <td>1.490529</td>\n",
       "      <td>89</td>\n",
       "      <td>2.741678</td>\n",
       "      <td>113.198590</td>\n",
       "      <td>38.30</td>\n",
       "      <td>44.95</td>\n",
       "      <td>52.53</td>\n",
       "      <td>1</td>\n",
       "      <td>1</td>\n",
       "      <td>1</td>\n",
       "      <td>Wednesday</td>\n",
       "    </tr>\n",
       "    <tr>\n",
       "      <th>2</th>\n",
       "      <td>2020-01-01 02:00:00</td>\n",
       "      <td>1.690529</td>\n",
       "      <td>85</td>\n",
       "      <td>3.563818</td>\n",
       "      <td>135.000000</td>\n",
       "      <td>NaN</td>\n",
       "      <td>48.40</td>\n",
       "      <td>54.80</td>\n",
       "      <td>1</td>\n",
       "      <td>1</td>\n",
       "      <td>2</td>\n",
       "      <td>Wednesday</td>\n",
       "    </tr>\n",
       "    <tr>\n",
       "      <th>3</th>\n",
       "      <td>2020-01-01 03:00:00</td>\n",
       "      <td>1.430529</td>\n",
       "      <td>84</td>\n",
       "      <td>2.811690</td>\n",
       "      <td>129.805570</td>\n",
       "      <td>37.28</td>\n",
       "      <td>47.18</td>\n",
       "      <td>50.80</td>\n",
       "      <td>1</td>\n",
       "      <td>1</td>\n",
       "      <td>3</td>\n",
       "      <td>Wednesday</td>\n",
       "    </tr>\n",
       "    <tr>\n",
       "      <th>4</th>\n",
       "      <td>2020-01-01 04:00:00</td>\n",
       "      <td>0.840529</td>\n",
       "      <td>86</td>\n",
       "      <td>1.800000</td>\n",
       "      <td>126.869896</td>\n",
       "      <td>29.97</td>\n",
       "      <td>41.48</td>\n",
       "      <td>54.43</td>\n",
       "      <td>1</td>\n",
       "      <td>1</td>\n",
       "      <td>4</td>\n",
       "      <td>Wednesday</td>\n",
       "    </tr>\n",
       "    <tr>\n",
       "      <th>...</th>\n",
       "      <td>...</td>\n",
       "      <td>...</td>\n",
       "      <td>...</td>\n",
       "      <td>...</td>\n",
       "      <td>...</td>\n",
       "      <td>...</td>\n",
       "      <td>...</td>\n",
       "      <td>...</td>\n",
       "      <td>...</td>\n",
       "      <td>...</td>\n",
       "      <td>...</td>\n",
       "      <td>...</td>\n",
       "    </tr>\n",
       "    <tr>\n",
       "      <th>8779</th>\n",
       "      <td>2020-12-31 19:00:00</td>\n",
       "      <td>4.920528</td>\n",
       "      <td>72</td>\n",
       "      <td>4.553680</td>\n",
       "      <td>251.565060</td>\n",
       "      <td>53.44</td>\n",
       "      <td>32.65</td>\n",
       "      <td>66.82</td>\n",
       "      <td>12</td>\n",
       "      <td>31</td>\n",
       "      <td>19</td>\n",
       "      <td>Thursday</td>\n",
       "    </tr>\n",
       "    <tr>\n",
       "      <th>8780</th>\n",
       "      <td>2020-12-31 20:00:00</td>\n",
       "      <td>4.990529</td>\n",
       "      <td>74</td>\n",
       "      <td>3.259939</td>\n",
       "      <td>186.340200</td>\n",
       "      <td>49.80</td>\n",
       "      <td>34.03</td>\n",
       "      <td>67.31</td>\n",
       "      <td>12</td>\n",
       "      <td>31</td>\n",
       "      <td>20</td>\n",
       "      <td>Thursday</td>\n",
       "    </tr>\n",
       "    <tr>\n",
       "      <th>8781</th>\n",
       "      <td>2020-12-31 21:00:00</td>\n",
       "      <td>4.360529</td>\n",
       "      <td>84</td>\n",
       "      <td>10.587917</td>\n",
       "      <td>252.181120</td>\n",
       "      <td>43.32</td>\n",
       "      <td>25.55</td>\n",
       "      <td>59.33</td>\n",
       "      <td>12</td>\n",
       "      <td>31</td>\n",
       "      <td>21</td>\n",
       "      <td>Thursday</td>\n",
       "    </tr>\n",
       "    <tr>\n",
       "      <th>8782</th>\n",
       "      <td>2020-12-31 22:00:00</td>\n",
       "      <td>3.820528</td>\n",
       "      <td>88</td>\n",
       "      <td>8.435069</td>\n",
       "      <td>219.805570</td>\n",
       "      <td>39.88</td>\n",
       "      <td>19.90</td>\n",
       "      <td>43.70</td>\n",
       "      <td>12</td>\n",
       "      <td>31</td>\n",
       "      <td>22</td>\n",
       "      <td>Thursday</td>\n",
       "    </tr>\n",
       "    <tr>\n",
       "      <th>8783</th>\n",
       "      <td>2020-12-31 23:00:00</td>\n",
       "      <td>3.170529</td>\n",
       "      <td>89</td>\n",
       "      <td>6.792466</td>\n",
       "      <td>212.005390</td>\n",
       "      <td>39.04</td>\n",
       "      <td>30.33</td>\n",
       "      <td>46.87</td>\n",
       "      <td>12</td>\n",
       "      <td>31</td>\n",
       "      <td>23</td>\n",
       "      <td>Thursday</td>\n",
       "    </tr>\n",
       "  </tbody>\n",
       "</table>\n",
       "<p>8784 rows × 12 columns</p>\n",
       "</div>"
      ],
      "text/plain": [
       "                DateTime  Temperature  Humidity  Wind_Speed  Wind_Direction  \\\n",
       "0    2020-01-01 00:00:00     2.180529        87    1.484318       75.963760   \n",
       "1    2020-01-01 01:00:00     1.490529        89    2.741678      113.198590   \n",
       "2    2020-01-01 02:00:00     1.690529        85    3.563818      135.000000   \n",
       "3    2020-01-01 03:00:00     1.430529        84    2.811690      129.805570   \n",
       "4    2020-01-01 04:00:00     0.840529        86    1.800000      126.869896   \n",
       "...                  ...          ...       ...         ...             ...   \n",
       "8779 2020-12-31 19:00:00     4.920528        72    4.553680      251.565060   \n",
       "8780 2020-12-31 20:00:00     4.990529        74    3.259939      186.340200   \n",
       "8781 2020-12-31 21:00:00     4.360529        84   10.587917      252.181120   \n",
       "8782 2020-12-31 22:00:00     3.820528        88    8.435069      219.805570   \n",
       "8783 2020-12-31 23:00:00     3.170529        89    6.792466      212.005390   \n",
       "\n",
       "      NO2_Location_A  NO2_Location_B  NO2_Location_C  month  day  hour  \\\n",
       "0              39.23           52.88           62.37      1    1     0   \n",
       "1              38.30           44.95           52.53      1    1     1   \n",
       "2                NaN           48.40           54.80      1    1     2   \n",
       "3              37.28           47.18           50.80      1    1     3   \n",
       "4              29.97           41.48           54.43      1    1     4   \n",
       "...              ...             ...             ...    ...  ...   ...   \n",
       "8779           53.44           32.65           66.82     12   31    19   \n",
       "8780           49.80           34.03           67.31     12   31    20   \n",
       "8781           43.32           25.55           59.33     12   31    21   \n",
       "8782           39.88           19.90           43.70     12   31    22   \n",
       "8783           39.04           30.33           46.87     12   31    23   \n",
       "\n",
       "        weekday  \n",
       "0     Wednesday  \n",
       "1     Wednesday  \n",
       "2     Wednesday  \n",
       "3     Wednesday  \n",
       "4     Wednesday  \n",
       "...         ...  \n",
       "8779   Thursday  \n",
       "8780   Thursday  \n",
       "8781   Thursday  \n",
       "8782   Thursday  \n",
       "8783   Thursday  \n",
       "\n",
       "[8784 rows x 12 columns]"
      ]
     },
     "execution_count": 29,
     "metadata": {},
     "output_type": "execute_result"
    }
   ],
   "source": [
    "#Diagnosing the missing values based on weekday\n",
    "air_df.DateTime = pd.to_datetime(air_df.DateTime)\n",
    "air_df['month'] = air_df.DateTime.dt.month\n",
    "air_df['day'] = air_df.DateTime.dt.day\n",
    "air_df['hour'] = air_df.DateTime.dt.hour\n",
    "air_df['weekday'] = air_df.DateTime.dt.day_name()\n",
    "\n",
    "air_df\n"
   ]
  },
  {
   "cell_type": "code",
   "execution_count": 30,
   "id": "8ce021e2",
   "metadata": {},
   "outputs": [
    {
     "data": {
      "image/png": "[encoded data removed]",
      "text/plain": [
       "<Figure size 1000x400 with 2 Axes>"
      ]
     },
     "metadata": {},
     "output_type": "display_data"
    }
   ],
   "source": [
    "BM_MV = air_df.NO2_Location_A.isna()\n",
    "MV_labels = ['Without Missing Values','With Missing Values']\n",
    "\n",
    "plt.figure(figsize=(10,4))\n",
    "for i,poss in enumerate(BM_MV.unique()):\n",
    "    plt.subplot(1,2,i+1)\n",
    "    BM = BM_MV == poss\n",
    "    air_df[BM].weekday.value_counts().plot.bar()\n",
    "    plt.title(MV_labels[i])\n",
    "plt.show()"
   ]
  },
  {
   "cell_type": "code",
   "execution_count": null,
   "id": "f5eff845",
   "metadata": {},
   "outputs": [],
   "source": [
    "#we can see that the missing values could have happened \n",
    "#randomly and we don't have a meaningful trend to believe there is a systematic reason for \n",
    "#the missing values happening due to a change of the value of airt_df.weekday\n"
   ]
  },
  {
   "cell_type": "code",
   "execution_count": 31,
   "id": "ba612fc8",
   "metadata": {},
   "outputs": [
    {
     "data": {
      "text/html": [
       "<div>\n",
       "<style scoped>\n",
       "    .dataframe tbody tr th:only-of-type {\n",
       "        vertical-align: middle;\n",
       "    }\n",
       "\n",
       "    .dataframe tbody tr th {\n",
       "        vertical-align: top;\n",
       "    }\n",
       "\n",
       "    .dataframe thead th {\n",
       "        text-align: right;\n",
       "    }\n",
       "</style>\n",
       "<table border=\"1\" class=\"dataframe\">\n",
       "  <thead>\n",
       "    <tr style=\"text-align: right;\">\n",
       "      <th>weekday</th>\n",
       "      <th>Friday</th>\n",
       "      <th>Monday</th>\n",
       "      <th>Saturday</th>\n",
       "      <th>Sunday</th>\n",
       "      <th>Thursday</th>\n",
       "      <th>Tuesday</th>\n",
       "      <th>Wednesday</th>\n",
       "    </tr>\n",
       "    <tr>\n",
       "      <th>NO2_Location_A</th>\n",
       "      <th></th>\n",
       "      <th></th>\n",
       "      <th></th>\n",
       "      <th></th>\n",
       "      <th></th>\n",
       "      <th></th>\n",
       "      <th></th>\n",
       "    </tr>\n",
       "  </thead>\n",
       "  <tbody>\n",
       "    <tr>\n",
       "      <th>False</th>\n",
       "      <td>1235</td>\n",
       "      <td>1229</td>\n",
       "      <td>1227</td>\n",
       "      <td>1229</td>\n",
       "      <td>1259</td>\n",
       "      <td>1226</td>\n",
       "      <td>1259</td>\n",
       "    </tr>\n",
       "    <tr>\n",
       "      <th>True</th>\n",
       "      <td>13</td>\n",
       "      <td>19</td>\n",
       "      <td>21</td>\n",
       "      <td>19</td>\n",
       "      <td>13</td>\n",
       "      <td>22</td>\n",
       "      <td>13</td>\n",
       "    </tr>\n",
       "  </tbody>\n",
       "</table>\n",
       "</div>"
      ],
      "text/plain": [
       "weekday         Friday  Monday  Saturday  Sunday  Thursday  Tuesday  Wednesday\n",
       "NO2_Location_A                                                                \n",
       "False             1235    1229      1227    1229      1259     1226       1259\n",
       "True                13      19        21      19        13       22         13"
      ]
     },
     "execution_count": 31,
     "metadata": {},
     "output_type": "execute_result"
    }
   ],
   "source": [
    "from scipy.stats import chi2_contingency\n",
    "BM_MV = air_df.NO2_Location_A.isna()\n",
    "contigency_table = pd.crosstab(BM_MV,air_df.weekday)\n",
    "contigency_table"
   ]
  },
  {
   "cell_type": "code",
   "execution_count": 32,
   "id": "9afafbfd",
   "metadata": {},
   "outputs": [
    {
     "data": {
      "text/plain": [
       "Chi2ContingencyResult(statistic=6.048964133655503, pvalue=0.41772751510388023, dof=6, expected_freq=array([[1230.95081967, 1230.95081967, 1230.95081967, 1230.95081967,\n",
       "        1254.62295082, 1230.95081967, 1254.62295082],\n",
       "       [  17.04918033,   17.04918033,   17.04918033,   17.04918033,\n",
       "          17.37704918,   17.04918033,   17.37704918]]))"
      ]
     },
     "execution_count": 32,
     "metadata": {},
     "output_type": "execute_result"
    }
   ],
   "source": [
    "chi2_contingency(contigency_table)"
   ]
  },
  {
   "cell_type": "code",
   "execution_count": null,
   "id": "64e0abed",
   "metadata": {},
   "outputs": [],
   "source": [
    "#Results \n",
    "#Having a p-value of 0.4127 confirms the observation, \n",
    "#which is that there is no relationship between the occurrence of missing values in \n",
    "#air_df.NO2_Location_A and the value of weekday, and the fact that the missing \n",
    "#values happened the way they did could have just been a random chance"
   ]
  },
  {
   "cell_type": "code",
   "execution_count": null,
   "id": "1649b1cb",
   "metadata": {},
   "outputs": [],
   "source": [
    "#Diagnosing the missing values based on all the categorical attributes"
   ]
  },
  {
   "cell_type": "code",
   "execution_count": 33,
   "id": "d0df9e8a",
   "metadata": {},
   "outputs": [],
   "source": [
    "from scipy.stats import chi2_contingency\n",
    "def Diagnose_MV_Categorical(df,str_att_name,BM_MV):\n",
    "    MV_labels = {True:'With Missing Values',False:'Without Missing Values'}\n",
    "\n",
    "    plt.figure(figsize=(10,4))\n",
    "    for i,poss in enumerate(BM_MV.unique()):\n",
    "        plt.subplot(1,2,i+1)\n",
    "        BM = BM_MV == poss\n",
    "        df[BM][str_att_name].value_counts().plot.bar()\n",
    "        plt.title(MV_labels[poss])\n",
    "    plt.show()\n",
    "\n",
    "    contigency_table = pd.crosstab(BM_MV,df[str_att_name])   \n",
    "    p_value = chi2_contingency(contigency_table)[1]\n",
    "    \n",
    "    print('p-value of Chi_squared test: {}'.format(p_value))"
   ]
  },
  {
   "cell_type": "code",
   "execution_count": 34,
   "id": "6c6e6610",
   "metadata": {},
   "outputs": [
    {
     "name": "stdout",
     "output_type": "stream",
     "text": [
      "Diagnosis Analysis of Missing Values for month:\n"
     ]
    },
    {
     "data": {
      "image/png": "[encoded data removed]",
      "text/plain": [
       "<Figure size 1000x400 with 2 Axes>"
      ]
     },
     "metadata": {},
     "output_type": "display_data"
    },
    {
     "name": "stdout",
     "output_type": "stream",
     "text": [
      "p-value of Chi_squared test: 0.7096565832929861\n",
      "- - - - - - - - - - - - divider - - - - - - - - - - - \n",
      "Diagnosis Analysis of Missing Values for day:\n"
     ]
    },
    {
     "data": {
      "image/png": "[encoded data removed]",
      "text/plain": [
       "<Figure size 1000x400 with 2 Axes>"
      ]
     },
     "metadata": {},
     "output_type": "display_data"
    },
    {
     "name": "stdout",
     "output_type": "stream",
     "text": [
      "p-value of Chi_squared test: 0.8040640724986007\n",
      "- - - - - - - - - - - - divider - - - - - - - - - - - \n",
      "Diagnosis Analysis of Missing Values for hour:\n"
     ]
    },
    {
     "data": {
      "image/png": "[encoded data removed]",
      "text/plain": [
       "<Figure size 1000x400 with 2 Axes>"
      ]
     },
     "metadata": {},
     "output_type": "display_data"
    },
    {
     "name": "stdout",
     "output_type": "stream",
     "text": [
      "p-value of Chi_squared test: 0.12725321642668141\n",
      "- - - - - - - - - - - - divider - - - - - - - - - - - \n",
      "Diagnosis Analysis of Missing Values for weekday:\n"
     ]
    },
    {
     "data": {
      "image/png": "[encoded data removed]",
      "text/plain": [
       "<Figure size 1000x400 with 2 Axes>"
      ]
     },
     "metadata": {},
     "output_type": "display_data"
    },
    {
     "name": "stdout",
     "output_type": "stream",
     "text": [
      "p-value of Chi_squared test: 0.41772751510388023\n",
      "- - - - - - - - - - - - divider - - - - - - - - - - - \n"
     ]
    }
   ],
   "source": [
    "categorical_attributes = ['month', 'day','hour', 'weekday']\n",
    "\n",
    "BM_MV = air_df.NO2_Location_A.isna()\n",
    "for att in categorical_attributes:\n",
    "    print('Diagnosis Analysis of Missing Values for {}:'.format(att))\n",
    "    Diagnose_MV_Categorical(air_df,att,BM_MV)\n",
    "    print('- - - - - - - - - - - - divider - - - - - - - - - - - ')"
   ]
  },
  {
   "cell_type": "code",
   "execution_count": null,
   "id": "6e55892d",
   "metadata": {},
   "outputs": [],
   "source": []
  }
 ],
 "metadata": {
  "kernelspec": {
   "display_name": "Python 3 (ipykernel)",
   "language": "python",
   "name": "python3"
  },
  "language_info": {
   "codemirror_mode": {
    "name": "ipython",
    "version": 3
   },
   "file_extension": ".py",
   "mimetype": "text/x-python",
   "name": "python",
   "nbconvert_exporter": "python",
   "pygments_lexer": "ipython3",
   "version": "3.11.5"
  }
 },
 "nbformat": 4,
 "nbformat_minor": 5
}
